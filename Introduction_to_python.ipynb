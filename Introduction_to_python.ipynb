{
  "cells": [
    {
      "cell_type": "markdown",
      "metadata": {
        "id": "uDPjB3jkgiPb"
      },
      "source": [
        "# **This notebook is introduction to using python**\n",
        "\n",
        "This notebook will explain how to work with data saved in files, create loops, functions and make plots."
      ]
    },
    {
      "cell_type": "markdown",
      "metadata": {
        "id": "8958fa2b"
      },
      "source": [
        "\n",
        "## **Getting Started**\n",
        "To run the code in this notebook, click on the play button next to each cell or press Shift + Enter after selecting a cell.\n",
        "\n",
        "Setting `#` means that anything behind it in a line is a comment not code. It doesn't affect code but it's a very usefull tool to make notes or explain something about the code."
      ]
    },
    {
      "cell_type": "markdown",
      "metadata": {
        "id": "1AwqII99qlKD"
      },
      "source": [
        "# **Setting variables**\n",
        "\n",
        "Programing allows us to perform multiple calculations and creating simulations. It also allows to print out results of our calcualtions or some text. It's very usefull tool to check if our calcualtions are correct or print out some comments.\n",
        "\n",
        "For start let's set variable x with value 5 and print it out and change it's value."
      ]
    },
    {
      "cell_type": "markdown",
      "metadata": {
        "id": "ebd6f0bd"
      },
      "source": [
        "\n",
        "### **Variable Naming Rules**\n",
        "In Python, variables must follow these rules:\n",
        "1. Variable names must start with a letter or an underscore (`_`), not a number.\n",
        "2. Names can only contain alphanumeric characters and underscores (`_`).\n",
        "3. Variable names are case-sensitive (`x` and `X` are different).\n",
        "\n",
        "If they don't follow those rules code will not be executed. For example naimng varaible `1x` wil cose the code tu crush."
      ]
    },
    {
      "cell_type": "code",
      "execution_count": 1,
      "metadata": {
        "colab": {
          "base_uri": "https://localhost:8080/"
        },
        "id": "8534ad7d",
        "outputId": "51bad8cc-10f6-4144-8149-9941f6429ade"
      },
      "outputs": [
        {
          "output_type": "stream",
          "name": "stdout",
          "text": [
            "First value of x:  5\n",
            "New value of x: 10\n"
          ]
        }
      ],
      "source": [
        "# Valid examples:\n",
        "x = 5\n",
        "print(\"First value of x: \", x)\n",
        "x = 10\n",
        "print(\"New value of x:\", x)\n"
      ]
    },
    {
      "cell_type": "markdown",
      "source": [
        "Variables can be subject to different operation like addition"
      ],
      "metadata": {
        "id": "V7EQcC5HD6Uq"
      }
    },
    {
      "cell_type": "markdown",
      "metadata": {
        "id": "7ea651c6"
      },
      "source": [
        "\n",
        "### **Working with Data Types**\n",
        "In Python, common data types include:\n",
        "- `int` (integer): Whole numbers like 5, -10\n",
        "- `float`: Numbers with decimal points, e.g., 5.5\n",
        "- `str` (string): Text like \"Hello, World!\"\n",
        "- `bool` (boolean): `True` or `False`\n",
        "\n",
        "Let's explore these data types:\n"
      ]
    },
    {
      "cell_type": "code",
      "execution_count": null,
      "metadata": {
        "id": "b85f8b28"
      },
      "outputs": [],
      "source": [
        "\n",
        "# Examples of data types\n",
        "x = 10  # int\n",
        "y = 3.14  # float\n",
        "z = \"Hello, Python!\"  # string\n",
        "b = True  # boolean\n",
        "\n",
        "# Printing types\n",
        "print(type(x), type(y), type(z), type(b))\n"
      ]
    },
    {
      "cell_type": "markdown",
      "metadata": {
        "id": "16b0f7d9"
      },
      "source": [
        "\n",
        "## **Using Libraries for Data Manipulation**\n",
        "We'll use `numpy` and `matplotlib` for data manipulation and visualization.\n",
        "`numpy` helps with numerical calculations, while `matplotlib` is used for plotting data.\n"
      ]
    },
    {
      "cell_type": "code",
      "execution_count": null,
      "metadata": {
        "id": "y6jFuOmTWDos"
      },
      "outputs": [],
      "source": [
        "import numpy\n",
        "import matplotlib.pyplot"
      ]
    },
    {
      "cell_type": "markdown",
      "metadata": {
        "id": "Ta33Ih-IxjDX"
      },
      "source": [
        "After importing libraries user has access to functions that library contains. For example we can create array, calcualte values based on them and make simple plot from them"
      ]
    },
    {
      "cell_type": "code",
      "execution_count": null,
      "metadata": {
        "colab": {
          "base_uri": "https://localhost:8080/",
          "height": 430
        },
        "id": "Pi6rnFnQxhlW",
        "outputId": "b1ee2582-3b9e-430e-ea89-d1eba20f8e63"
      },
      "outputs": [
        {
          "data": {
            "image/png": "[encoded data removed]",
            "text/plain": [
              "<Figure size 640x480 with 1 Axes>"
            ]
          },
          "metadata": {},
          "output_type": "display_data"
        }
      ],
      "source": [
        "# Creating simple array with values for x axis for future plot\n",
        "x = numpy.array([0., 0.1, 0.2, 0.3, 0.4, 0.5, 0.6, 0.7, 0.8, 0.9, 1, 1.1, 1.2, 1.3, 1.4, 1.5, 1.6, 1.7, 1.8, 1.9, 2])\n",
        "\n",
        "# Calculating vlaues of sin based on values in array mulitplied by pi\n",
        "y = numpy.sin(x*numpy.pi)\n",
        "\n",
        "# Creating a simple plot\n",
        "matplotlib.pyplot.plot(x,y)\n",
        "matplotlib.pyplot.show()"
      ]
    },
    {
      "cell_type": "markdown",
      "metadata": {
        "id": "l0Ei9l5_2FcE"
      },
      "source": [
        "Plot showed the sinus function, but there are a few things we can improve on our code. While writing numpy before using function from this library may not be overly troublesome using library names like matplotlib.pyplot may prove to be timeconsuming and negativly affect how easy it is to read the code. Fragment of the code below shows how to make it simpler.\n",
        "\n",
        "Using `as` while importing the library allows user to use different name for the library while writing the code.\n",
        "\n",
        "We can think about it as using the nickname for our firend - the name remain the same but friend also reacts when we call him by nickname.\n",
        "\n",
        "In the call below rewrite the code using new name of libraries."
      ]
    },
    {
      "cell_type": "code",
      "execution_count": 10,
      "metadata": {
        "id": "Pb9qFzUGxhAu"
      },
      "outputs": [],
      "source": [
        "import numpy as np\n",
        "import matplotlib.pyplot as plt"
      ]
    },
    {
      "cell_type": "markdown",
      "metadata": {
        "id": "Qptx2z9X9th2"
      },
      "source": [
        "Now please write, a function that multiplies argument by 10 and check the results. Can we provide array instead of single argument? What functions returns then?"
      ]
    },
    {
      "cell_type": "code",
      "execution_count": null,
      "metadata": {
        "id": "pUpuyLSx-J-t"
      },
      "outputs": [],
      "source": []
    },
    {
      "cell_type": "markdown",
      "metadata": {
        "id": "2-LM1KQ45H5p"
      },
      "source": [
        "# **Functions**\n",
        "\n",
        "Functions are like specialists - we can call them and they will do one thing and one thing only.\n",
        "\n",
        "Idea behind them is just like for mathematical functions. For example let's take f(x) = x+5. This function take x (number) as argument and returns value of x with five added to it. Of course functions in our code can be more complicated, take more arguments, and return for example string instead of number.\n",
        "\n",
        "So why do we use them? Well they will make the code easier to read becouse very often during simulations the same calculations are repeated so instead of writing the same line of code over and over again we can just call the function and provide it wiht arguments.\n",
        "\n",
        "Also if we name function properly it will amke code easier to read."
      ]
    },
    {
      "cell_type": "markdown",
      "source": [
        "**How to creat a function**\n",
        "\n",
        "To create a function, first use `def`, which stands for \"define.\" After using `def`, the user needs to provide a name for the function. The function can be named however the user wants, but good practices include the following:\n",
        "\n",
        "1. It should be relatively short – this makes the code easier to read if the names are simple and concise.\n",
        "2. It should relate to what the function does – this makes the code easier to understand, as the name suggests what is happening with the data.\n",
        "\n",
        "After naming the function, the user needs to define the arguments/parameters that need to be provided for the function to work. These arguments are placed in parentheses and separated with commas.\n",
        "\n",
        "An example of a function would look like this:\n",
        "`def function_name(argument1, argument2):`\n",
        "\n",
        "After the colon, move to the next line, starting with an indent, and write the code that you want to be executed when the function is called.\n",
        "\n",
        "Most of the time, functions end with `return`. This command means the function will return a value, an array, or some text. However, some functions do not return anything – these can be used, for example, if the function is meant to generate a plot.\n",
        "\n"
      ],
      "metadata": {
        "id": "HWxTZcoD2gjT"
      }
    },
    {
      "cell_type": "code",
      "execution_count": null,
      "metadata": {
        "colab": {
          "base_uri": "https://localhost:8080/"
        },
        "id": "h8WBdk8W5HcK",
        "outputId": "c9e7f947-b4a2-4493-b8fa-f0ce81862c11"
      },
      "outputs": [
        {
          "name": "stdout",
          "output_type": "stream",
          "text": [
            "10\n",
            "10\n"
          ]
        }
      ],
      "source": [
        "x = 5\n",
        "print(\"adding 5 by hand gives: \", x+5)\n",
        "\n",
        "# Creating function that adds five to variable\n",
        "def add_five(y):\n",
        "    return y+5\n",
        "\n",
        "print(\"adding 5 by function gives: \", add_five(x))"
      ]
    },
    {
      "cell_type": "markdown",
      "source": [
        "In the cell below create a function that will add to numbers together. Function should take as arguments btoh of this values."
      ],
      "metadata": {
        "id": "HCj-D33bEH2E"
      }
    },
    {
      "cell_type": "code",
      "source": [],
      "metadata": {
        "id": "g8POJwmKK6GE"
      },
      "execution_count": null,
      "outputs": []
    },
    {
      "cell_type": "markdown",
      "metadata": {
        "id": "sTLMhmPK-OZF"
      },
      "source": [
        "# **Loops**\n",
        "\n",
        "Sometimes in the code we need to repaeat fragment of our code mulitple times or go over every element of array seperatly.\n",
        "\n",
        "We can just repeat that fragment of code a few times, but if the action we need to repaet requires a few steps (more than one line of code) it will soon be very hard to read. What to do then?\n",
        "\n",
        "Of course we can put that fragment of code as function which would then require user to call function so every iteration would be just one line of code. While for few iterations it wouldn't be a problem then what happens if we need to do it 1000 or more times?\n",
        "\n",
        "This is where loops come into action. They allow us to repaet code multiple times without writing it many times over.\n"
      ]
    },
    {
      "cell_type": "markdown",
      "metadata": {
        "id": "-8T5WO7vAolU"
      },
      "source": [
        "We have two types of loops:\n",
        "\n",
        "\n",
        "1.   for loop - this loop repeat itself for number of times provided by the user. It can also loop over elements in the arrays or lists.\n",
        "2.   while loop - this loops repeat itself while certain condition imposed by user is met\n",
        "\n",
        "In general for loop is better when user knows how many times he want to repeat certain action or needs to go through every element of array. If number of required repetiton is unknown but user knows when to stop action (for example number exceed certain value).\n",
        "\n",
        "\n"
      ]
    },
    {
      "cell_type": "code",
      "execution_count": 15,
      "metadata": {
        "colab": {
          "base_uri": "https://localhost:8080/"
        },
        "id": "ZlCb1Qlf-N-2",
        "outputId": "3ac8f6b0-0697-46e7-9603-7700933c2723",
        "collapsed": true
      },
      "outputs": [
        {
          "output_type": "stream",
          "name": "stdout",
          "text": [
            "0\n",
            "1\n",
            "2\n",
            "3\n",
            "4\n"
          ]
        }
      ],
      "source": [
        "n = 5\n",
        "\n",
        "# range returns sequance of numbers from 0 to n-1\n",
        "for i in range(n):\n",
        "  print(i)"
      ]
    },
    {
      "cell_type": "code",
      "execution_count": 11,
      "metadata": {
        "colab": {
          "base_uri": "https://localhost:8080/"
        },
        "id": "D3dNJ3qajEW8",
        "outputId": "cf0176d8-9d1d-492d-e137-7bdde0d3bc62",
        "collapsed": true
      },
      "outputs": [
        {
          "output_type": "stream",
          "name": "stdout",
          "text": [
            "hello\n",
            "let's\n",
            "learn\n",
            "loops\n",
            "together\n"
          ]
        }
      ],
      "source": [
        "# now let's perform a loop that will print out every word in array\n",
        "\n",
        "words = np.array([\"hello\", \"let's\", \"learn\", \"loops\", \"together\"])\n",
        "\n",
        "for i in words:\n",
        "  print(i)"
      ]
    },
    {
      "cell_type": "markdown",
      "source": [
        "In the code above i is the element in the array. Very often instead of taking element directly from the array we just intrested in it's index. Code below shows how to do it.\n",
        "\n",
        "It's worth mentioning that rowsa and columns in the array in python are numerated from 0.\n"
      ],
      "metadata": {
        "id": "sUbWy1FKAaNa"
      }
    },
    {
      "cell_type": "code",
      "source": [
        "# len returns length of the array\n",
        "for i in range(len(words)):\n",
        "  print('index number: ',i)\n",
        "  print(\"Word in the cell:\", words[i])\n",
        "# cell number of and array or list are put in the squar brackets"
      ],
      "metadata": {
        "colab": {
          "base_uri": "https://localhost:8080/"
        },
        "collapsed": true,
        "id": "djdztrI1BAUS",
        "outputId": "506780f7-23e8-4239-8fa3-d580569e760a"
      },
      "execution_count": 13,
      "outputs": [
        {
          "output_type": "stream",
          "name": "stdout",
          "text": [
            "index number:  0\n",
            "Word in the cell: hello\n",
            "index number:  1\n",
            "Word in the cell: let's\n",
            "index number:  2\n",
            "Word in the cell: learn\n",
            "index number:  3\n",
            "Word in the cell: loops\n",
            "index number:  4\n",
            "Word in the cell: together\n"
          ]
        }
      ]
    },
    {
      "cell_type": "markdown",
      "metadata": {
        "id": "FK-eh5Zxjljc"
      },
      "source": [
        "Now create, a list or array of numbers from 1 to 5. When you do it loop over elements and sum them together.\n",
        "then create loops that will add i (variable which increases after performing loop) to variable. Print out both results. Are they the same or different? If they are different explain why."
      ]
    },
    {
      "cell_type": "code",
      "execution_count": null,
      "metadata": {
        "id": "sSnVRvOqjeT9"
      },
      "outputs": [],
      "source": []
    },
    {
      "cell_type": "markdown",
      "metadata": {
        "id": "6q7-o26F1aMG"
      },
      "source": [
        "We can also do the same as above using while loop."
      ]
    },
    {
      "cell_type": "code",
      "execution_count": null,
      "metadata": {
        "colab": {
          "base_uri": "https://localhost:8080/"
        },
        "id": "eBmK5xVJ1XUW",
        "outputId": "105fa289-1719-4bc3-e273-f02613873305"
      },
      "outputs": [
        {
          "name": "stdout",
          "output_type": "stream",
          "text": [
            "5\n"
          ]
        }
      ],
      "source": [
        "n=0\n",
        "while n<5:\n",
        "  n+=1\n",
        "print(n)"
      ]
    },
    {
      "cell_type": "markdown",
      "metadata": {
        "id": "O4n7LCJg3i3_"
      },
      "source": [
        "We can also create infinite loop which will continue until we will give it coomand to break. To do that we need to set a condition that wll perform our instruction.\n",
        "\n",
        "Setting condition is done by using 3 commands:\n",
        "\n",
        "\n",
        "1.   `if` - checks the condition\n",
        "2.   `elif` - checks if condition was met but only when the condition for if failed\n",
        "3. `else` - this is automatically true when `if` or `if` and `elif` were not true\n",
        "\n",
        "For setting conditions there are a few usefull commands:\n",
        "\n",
        "\n",
        "*   `>`,`<`,`>=` etc - this condiitons checks if our values is bigger than, smaller than etc\n",
        "*   `==` - this checks if the values are the same\n",
        "* `!=` - this checks if the values are different\n",
        "\n",
        "If user wants to put more comlicated instructions for example two conditions need to be met at the same time or at least one of them we can use more complicated system of ifs but it's easier to use logical operators like `and` `or`etc.\n",
        "\n",
        "\n",
        "\n"
      ]
    },
    {
      "cell_type": "code",
      "execution_count": null,
      "metadata": {
        "colab": {
          "base_uri": "https://localhost:8080/"
        },
        "id": "3qhu-h329RcQ",
        "outputId": "5c0b13b0-09e9-4445-a312-a897eb4c2840"
      },
      "outputs": [
        {
          "name": "stdout",
          "output_type": "stream",
          "text": [
            "5\n"
          ]
        }
      ],
      "source": [
        "n=0\n",
        "# inifite loop\n",
        "while True:\n",
        "\n",
        "  n+=1 # adding one to variable after iteration\n",
        "\n",
        "  if n == 5: # setting condition for breaking the loop\n",
        "    break\n",
        "\n",
        "print(n)"
      ]
    },
    {
      "cell_type": "markdown",
      "source": [
        "In cell below:\n",
        "\n",
        "1. create a loop that will put ten elements in the array using loop"
      ],
      "metadata": {
        "id": "pd6iBEPl_lHS"
      }
    },
    {
      "cell_type": "code",
      "source": [],
      "metadata": {
        "id": "56Kg-x81LGtf"
      },
      "execution_count": null,
      "outputs": []
    },
    {
      "cell_type": "markdown",
      "metadata": {
        "id": "17347ac9"
      },
      "source": [
        "\n",
        "## **Working with Files**\n",
        "Python allows you to read from and write to files. Here is an example:\n"
      ]
    },
    {
      "cell_type": "code",
      "execution_count": null,
      "metadata": {
        "id": "e70a3245"
      },
      "outputs": [],
      "source": [
        "\n",
        "# Writing to a file\n",
        "with open(\"example.txt\", \"w\") as f:\n",
        "    f.write(\"Hello, this is a sample file!\\n\")\n",
        "    f.write(\"You can write multiple lines.\")\n",
        "\n",
        "# Reading the file\n",
        "with open(\"example.txt\", \"r\") as f:\n",
        "    content = f.read()\n",
        "    print(\"File Content:\\n\", content)\n"
      ]
    },
    {
      "cell_type": "markdown",
      "metadata": {
        "id": "NSmHcFjxUyIy"
      },
      "source": [
        "To work with files we need to import os file"
      ]
    },
    {
      "cell_type": "code",
      "execution_count": null,
      "metadata": {
        "id": "jZ_8p2-gUx1a"
      },
      "outputs": [],
      "source": [
        "import os"
      ]
    },
    {
      "cell_type": "markdown",
      "metadata": {
        "id": "KtghmHaqXkNj"
      },
      "source": [
        "First make folder to save created files. It makes working with files easier if therre are multiple ones."
      ]
    },
    {
      "cell_type": "code",
      "execution_count": null,
      "metadata": {
        "id": "n6-O6LsjUn5I"
      },
      "outputs": [],
      "source": [
        "os.mkdir(\"work_folder\")"
      ]
    },
    {
      "cell_type": "markdown",
      "metadata": {
        "id": "Qcz1igxHYRfy"
      },
      "source": [
        "In the bar on the left new folder can be found. Function mkdir() takes 1 argument:\n",
        "*   path - which specify the path to place in our computer where we want to save/create folder.\n",
        "\n",
        "If we just give it the name of the folder it will create it in a working folder.\n",
        "Belowe we have example of creating a folder with specified path.\n",
        "\n",
        "\n",
        "\n"
      ]
    },
    {
      "cell_type": "code",
      "execution_count": null,
      "metadata": {
        "id": "wJ0bJoloYNb4"
      },
      "outputs": [],
      "source": [
        "os.mkdir('/content/work_folder/second_folder')"
      ]
    },
    {
      "cell_type": "markdown",
      "metadata": {
        "id": "emCiymORjrnc"
      },
      "source": [
        "Create two folders inside working_folder:\n",
        "\n",
        "\n",
        "*   data - we will use it to save files with data\n",
        "*   images - we will save graphics inside it\n",
        "\n"
      ]
    },
    {
      "cell_type": "code",
      "execution_count": null,
      "metadata": {
        "id": "B_bfGY76jrW2"
      },
      "outputs": [],
      "source": []
    },
    {
      "cell_type": "markdown",
      "metadata": {
        "id": "P4OikMk1kElk"
      },
      "source": [
        "Now let's learn how to work with .csv files (coma separated values). To this a pandas library will be needed.  "
      ]
    },
    {
      "cell_type": "code",
      "execution_count": null,
      "metadata": {
        "id": "NKLXzH-dWnjC"
      },
      "outputs": [],
      "source": [
        "import pandas as pd"
      ]
    },
    {
      "cell_type": "markdown",
      "metadata": {
        "id": "oHTcdpMpWpsF"
      },
      "source": [
        "Now let's create some data so it can be saved in a file."
      ]
    },
    {
      "cell_type": "code",
      "execution_count": null,
      "metadata": {
        "colab": {
          "base_uri": "https://localhost:8080/"
        },
        "id": "P9fnb8LAcJuj",
        "outputId": "9fc5447e-39eb-4c10-8242-54cbe3695ed0"
      },
      "outputs": [
        {
          "name": "stdout",
          "output_type": "stream",
          "text": [
            "[[0.]\n",
            " [0.]\n",
            " [0.]\n",
            " [0.]\n",
            " [0.]\n",
            " [0.]\n",
            " [0.]\n",
            " [0.]\n",
            " [0.]\n",
            " [0.]\n",
            " [0.]\n",
            " [0.]\n",
            " [0.]\n",
            " [0.]\n",
            " [0.]\n",
            " [0.]\n",
            " [0.]\n",
            " [0.]\n",
            " [0.]\n",
            " [0.]]\n",
            "As we can see arrays is full of zeros but has shape as we wanted: (20, 1)\n"
          ]
        }
      ],
      "source": [
        "n=20\n",
        "# Creating array full of zeros with n rows and 1 column\n",
        "data_points = np.zeros((n,1), dtype = np.double)\n",
        "\n",
        "print(data_points)\n",
        "print(\"As we can see arrays is full of zeros but has shape as we wanted:\", np.shape(data_points))"
      ]
    },
    {
      "cell_type": "markdown",
      "source": [
        "In the cell below fill array with numbers from 0. to 2. increasing values by 0.1."
      ],
      "metadata": {
        "id": "bEKGyuzpEpuK"
      }
    },
    {
      "cell_type": "code",
      "source": [],
      "metadata": {
        "id": "cO5WlFFNDrcq"
      },
      "execution_count": null,
      "outputs": []
    },
    {
      "cell_type": "markdown",
      "metadata": {
        "id": "5i4zT8qvZsEr"
      },
      "source": [
        "Multiply all the numbers in the array by $\\pi$"
      ]
    },
    {
      "cell_type": "code",
      "execution_count": null,
      "metadata": {
        "id": "BDDsCYxZZ0Wx"
      },
      "outputs": [],
      "source": []
    },
    {
      "cell_type": "markdown",
      "metadata": {
        "id": "TauzWUHJZ0wH"
      },
      "source": [
        "Let's save that data into pandas frame and then into file."
      ]
    },
    {
      "cell_type": "code",
      "execution_count": null,
      "metadata": {
        "id": "yfjBaUuHxseh"
      },
      "outputs": [],
      "source": [
        "data = pd.DataFrame(data_points, columns = [\"x\"])\n",
        "data.to_csv('/content/work_folder/data/data.csv')"
      ]
    },
    {
      "cell_type": "markdown",
      "metadata": {
        "id": "l_ue24vFac9Z"
      },
      "source": [
        "New let's load the data and perform some easy calculations on them."
      ]
    },
    {
      "cell_type": "code",
      "execution_count": null,
      "metadata": {
        "colab": {
          "base_uri": "https://localhost:8080/"
        },
        "id": "KwoW4BSkaBve",
        "outputId": "57656eba-d31f-4a4f-eb0b-bb27ce194707"
      },
      "outputs": [
        {
          "name": "stdout",
          "output_type": "stream",
          "text": [
            "    Unnamed: 0    x\n",
            "0            0  0.0\n",
            "1            1  0.1\n",
            "2            2  0.2\n",
            "3            3  0.3\n",
            "4            4  0.4\n",
            "5            5  0.5\n",
            "6            6  0.6\n",
            "7            7  0.7\n",
            "8            8  0.8\n",
            "9            9  0.9\n",
            "10          10  1.0\n",
            "11          11  1.1\n",
            "12          12  1.2\n",
            "13          13  1.3\n",
            "14          14  1.4\n",
            "15          15  1.5\n",
            "16          16  1.6\n",
            "17          17  1.7\n",
            "18          18  1.8\n",
            "19          19  1.9\n"
          ]
        }
      ],
      "source": [
        "df = pd.read_csv('/content/work_folder/data/data.csv')\n",
        "print(df)\n",
        "\n",
        "# adding a column named y with vlaues sin(x)\n",
        "df.insert(1, \"y\", np.sin(df[\"x\"]))\n",
        "print(df)"
      ]
    },
    {
      "cell_type": "markdown",
      "metadata": {
        "id": "0a1cf78c"
      },
      "source": [
        "\n",
        "## **Using Pandas for Data Manipulation**\n",
        "The `pandas` library is a powerful tool for working with data, especially tabular data like CSV files.\n",
        "Here is how to use it:\n"
      ]
    },
    {
      "cell_type": "code",
      "execution_count": 16,
      "metadata": {
        "colab": {
          "base_uri": "https://localhost:8080/"
        },
        "id": "ac738d3d",
        "outputId": "355e5b88-6d65-407c-b7a7-7703a6aa36ba"
      },
      "outputs": [
        {
          "output_type": "stream",
          "name": "stdout",
          "text": [
            "DataFrame:\n",
            "       Name  Age         City\n",
            "0    Alice   25     New York\n",
            "1      Bob   30  Los Angeles\n",
            "2  Charlie   35      Chicago\n",
            "CSV file saved as 'example.csv'.\n",
            "Read DataFrame:\n",
            "       Name  Age         City\n",
            "0    Alice   25     New York\n",
            "1      Bob   30  Los Angeles\n",
            "2  Charlie   35      Chicago\n"
          ]
        }
      ],
      "source": [
        "\n",
        "import pandas as pd\n",
        "\n",
        "# Creating a DataFrame\n",
        "#        Name of the column: [values in the column]\n",
        "data = {'Name': ['Alice', 'Bob', 'Charlie'],\n",
        "        'Age': [25, 30, 35],\n",
        "        'City': ['New York', 'Los Angeles', 'Chicago']}\n",
        "#making pandas dataframe from data\n",
        "df = pd.DataFrame(data)\n",
        "print(\"DataFrame:\\n\", df)\n",
        "\n",
        "# Saving the DataFrame to a CSV file\n",
        "df.to_csv(\"example.csv\", index=False)\n",
        "print(\"CSV file saved as 'example.csv'.\")\n",
        "\n",
        "# Reading the CSV file back into a DataFrame\n",
        "df_read = pd.read_csv(\"example.csv\")\n",
        "print(\"Read DataFrame:\\n\", df_read)\n"
      ]
    },
    {
      "cell_type": "markdown",
      "metadata": {
        "id": "c2d9724a"
      },
      "source": [
        "\n",
        "### **Exercise: Manipulate Data Using Pandas**\n",
        "1. Create a DataFrame with your own data (e.g., names, grades, and subjects).\n",
        "2. Save it to a CSV file.\n",
        "3. Read the CSV file and filter rows based on some condition (e.g., grades > 70).\n"
      ]
    },
    {
      "cell_type": "markdown",
      "metadata": {
        "id": "c5346bc4"
      },
      "source": [
        "\n",
        "## **Saving Plots and Creating GIFs**\n",
        "You can save plots as image files and even create animations or GIFs from multiple plots.\n"
      ]
    },
    {
      "cell_type": "code",
      "execution_count": 17,
      "metadata": {
        "colab": {
          "base_uri": "https://localhost:8080/"
        },
        "id": "d1284d96",
        "outputId": "6f07eab2-34e9-42cf-896e-01d8d47d25b0"
      },
      "outputs": [
        {
          "output_type": "stream",
          "name": "stdout",
          "text": [
            "Plots saved in the 'plots' directory.\n"
          ]
        }
      ],
      "source": [
        "\n",
        "import os\n",
        "from matplotlib.animation import FuncAnimation\n",
        "\n",
        "# Creating a directory to save plots\n",
        "os.makedirs(\"plots\", exist_ok=True)\n",
        "\n",
        "# Generating and saving multiple plots\n",
        "x = np.linspace(0, 2 * np.pi, 100)\n",
        "for i in range(5):\n",
        "    y = np.sin(x + i * 0.5)\n",
        "    plt.plot(x, y, label=f\"Shift {i}\")\n",
        "    plt.title(\"Sine Wave Shift\")\n",
        "    plt.xlabel(\"X-axis\")\n",
        "    plt.ylabel(\"Y-axis\")\n",
        "    plt.legend()\n",
        "    plt.savefig(f\"plots/plot_{i}.png\")  # Save each plot as a PNG\n",
        "    plt.close()\n",
        "\n",
        "print(\"Plots saved in the 'plots' directory.\")\n"
      ]
    },
    {
      "cell_type": "code",
      "execution_count": 18,
      "metadata": {
        "colab": {
          "base_uri": "https://localhost:8080/"
        },
        "id": "fd9e6af7",
        "outputId": "793ec901-d90e-4448-b074-ff550ef52dc3"
      },
      "outputs": [
        {
          "output_type": "stream",
          "name": "stderr",
          "text": [
            "<ipython-input-18-f679ecb9a529>:7: DeprecationWarning: Starting with ImageIO v3 the behavior of this function will switch to that of iio.v3.imread. To keep the current behavior (and make this warning disappear) use `import imageio.v2 as imageio` or call `imageio.v2.imread` directly.\n",
            "  images.append(imageio.imread(filename))\n"
          ]
        },
        {
          "output_type": "stream",
          "name": "stdout",
          "text": [
            "GIF saved as 'sine_wave.gif'.\n"
          ]
        }
      ],
      "source": [
        "\n",
        "# Creating a GIF from the saved plots\n",
        "import imageio\n",
        "\n",
        "images = []\n",
        "for i in range(5):\n",
        "    filename = f\"plots/plot_{i}.png\"\n",
        "    images.append(imageio.imread(filename))\n",
        "\n",
        "imageio.mimsave(\"sine_wave.gif\", images, duration=0.5)  # Save as a GIF\n",
        "print(\"GIF saved as 'sine_wave.gif'.\")\n"
      ]
    },
    {
      "cell_type": "markdown",
      "metadata": {
        "id": "be186842"
      },
      "source": [
        "### Excercise:\n",
        "Copy last cell and remake it into a fuction that takes path to folder with graphics, and name for the GIF as arguments.\n"
      ]
    },
    {
      "cell_type": "code",
      "source": [],
      "metadata": {
        "id": "MvDZcv8nGPzH"
      },
      "execution_count": null,
      "outputs": []
    }
  ],
  "metadata": {
    "colab": {
      "provenance": []
    },
    "kernelspec": {
      "display_name": "Python 3",
      "name": "python3"
    },
    "language_info": {
      "name": "python"
    }
  },
  "nbformat": 4,
  "nbformat_minor": 0
}