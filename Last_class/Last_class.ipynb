{
  "nbformat": 4,
  "nbformat_minor": 0,
  "metadata": {
    "colab": {
      "provenance": []
    },
    "kernelspec": {
      "name": "python3",
      "display_name": "Python 3"
    },
    "language_info": {
      "name": "python"
    }
  },
  "cells": [
    {
      "cell_type": "markdown",
      "source": [
        "In this notebook we will work with some CREDO data. To this execute code belowe to download necceserry files."
      ],
      "metadata": {
        "id": "PTRKZiOb2r2p"
      }
    },
    {
      "cell_type": "markdown",
      "source": [],
      "metadata": {
        "id": "yrs_kBxG5Pyf"
      }
    },
    {
      "cell_type": "code",
      "execution_count": null,
      "metadata": {
        "colab": {
          "base_uri": "https://localhost:8080/"
        },
        "id": "U7yOl-2r2gT9",
        "outputId": "395ebe47-69c1-4221-e5d0-9c0d73685cb6"
      },
      "outputs": [
        {
          "output_type": "stream",
          "name": "stdout",
          "text": [
            "--2025-04-11 08:14:35--  https://raw.githubusercontent.com/Bart-Iz/Python_workshop/main/Last_class/CREDO_functions.py\n",
            "Resolving raw.githubusercontent.com (raw.githubusercontent.com)... 185.199.108.133, 185.199.109.133, 185.199.110.133, ...\n",
            "Connecting to raw.githubusercontent.com (raw.githubusercontent.com)|185.199.108.133|:443... connected.\n",
            "HTTP request sent, awaiting response... 200 OK\n",
            "Length: 2458 (2.4K) [text/plain]\n",
            "Saving to: ‘/content/CREDO/CREDO_functions.py’\n",
            "\n",
            "\rCREDO_functions.py    0%[                    ]       0  --.-KB/s               \rCREDO_functions.py  100%[===================>]   2.40K  --.-KB/s    in 0s      \n",
            "\n",
            "2025-04-11 08:14:35 (39.7 MB/s) - ‘/content/CREDO/CREDO_functions.py’ saved [2458/2458]\n",
            "\n",
            "--2025-04-11 08:14:35--  https://raw.githubusercontent.com/Bart-Iz/Python_workshop/main/Last_class/team_mapping.json\n",
            "Resolving raw.githubusercontent.com (raw.githubusercontent.com)... 185.199.111.133, 185.199.110.133, 185.199.108.133, ...\n",
            "Connecting to raw.githubusercontent.com (raw.githubusercontent.com)|185.199.111.133|:443... connected.\n",
            "HTTP request sent, awaiting response... 200 OK\n",
            "Length: 696858 (681K) [text/plain]\n",
            "Saving to: ‘/content/CREDO/team_mapping.json’\n",
            "\n",
            "team_mapping.json   100%[===================>] 680.53K  --.-KB/s    in 0.05s   \n",
            "\n",
            "2025-04-11 08:14:36 (12.2 MB/s) - ‘/content/CREDO/team_mapping.json’ saved [696858/696858]\n",
            "\n",
            "--2025-04-11 08:14:36--  https://raw.githubusercontent.com/Bart-Iz/Python_workshop/main/Last_class/user_mapping.json\n",
            "Resolving raw.githubusercontent.com (raw.githubusercontent.com)... 185.199.111.133, 185.199.108.133, 185.199.109.133, ...\n",
            "Connecting to raw.githubusercontent.com (raw.githubusercontent.com)|185.199.111.133|:443... connected.\n",
            "HTTP request sent, awaiting response... 200 OK\n",
            "Length: 2 [text/plain]\n",
            "Saving to: ‘/content/CREDO/user_mapping.json’\n",
            "\n",
            "user_mapping.json   100%[===================>]       2  --.-KB/s    in 0s      \n",
            "\n",
            "2025-04-11 08:14:36 (36.3 KB/s) - ‘/content/CREDO/user_mapping.json’ saved [2/2]\n",
            "\n"
          ]
        }
      ],
      "source": [
        "!wget https://raw.githubusercontent.com/Bart-Iz/Python_workshop/main/Last_class/CREDO_functions.py -P /content/CREDO -P /content/CREDO\n",
        "!wget https://raw.githubusercontent.com/Bart-Iz/Python_workshop/main/Last_class/team_mapping.json -P /content/CREDO -P /content/CREDO\n",
        "!wget https://raw.githubusercontent.com/Bart-Iz/Python_workshop/main/Last_class/user_mapping.json -P /content/CREDO -P /content/CREDO"
      ]
    },
    {
      "cell_type": "markdown",
      "source": [
        "We will import functions that were perdefined especially for this data."
      ],
      "metadata": {
        "id": "bzU9udKg6ty0"
      }
    },
    {
      "cell_type": "code",
      "source": [
        "import importlib\n",
        "import sys\n",
        "sys.path.append(\"/content/CREDO/\")\n",
        "\n",
        "import CREDO_functions as cf\n",
        "importlib.reload(cf)"
      ],
      "metadata": {
        "colab": {
          "base_uri": "https://localhost:8080/"
        },
        "id": "bmLp_PXu5Rjg",
        "outputId": "8a7f5ed9-9560-4581-8b58-fd54d1bcee8e"
      },
      "execution_count": null,
      "outputs": [
        {
          "output_type": "execute_result",
          "data": {
            "text/plain": [
              "<module 'CREDO_functions' from '/content/CREDO/CREDO_functions.py'>"
            ]
          },
          "metadata": {},
          "execution_count": 5
        }
      ]
    },
    {
      "cell_type": "markdown",
      "source": [
        "To read the data we will use one of predefined functions."
      ],
      "metadata": {
        "id": "wewwhNsX6pIl"
      }
    },
    {
      "cell_type": "code",
      "source": [
        "df = cf.read_data('/content/export_credo.json')"
      ],
      "metadata": {
        "id": "h9TDs5Bx6kjV"
      },
      "execution_count": null,
      "outputs": []
    },
    {
      "cell_type": "markdown",
      "source": [
        "Now let's examin the file with functions."
      ],
      "metadata": {
        "id": "OSJCNVuv8pAi"
      }
    },
    {
      "cell_type": "code",
      "source": [],
      "metadata": {
        "id": "jeGuIDTb8snz"
      },
      "execution_count": null,
      "outputs": []
    }
  ]
}