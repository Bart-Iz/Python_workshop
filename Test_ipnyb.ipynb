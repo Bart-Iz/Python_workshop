{
  "nbformat": 4,
  "nbformat_minor": 0,
  "metadata": {
    "colab": {
      "provenance": []
    },
    "kernelspec": {
      "name": "python3",
      "display_name": "Python 3"
    },
    "language_info": {
      "name": "python"
    }
  },
  "cells": [
    {
      "cell_type": "markdown",
      "source": [
        "### Simple cheat sheet\n",
        "* printing value of variable x: `print(x)`\n",
        "* setting variable: `x=...`\n",
        "* making `for` loop: `for i in ...:`\n",
        "* setting a logical condition: `if ..condition...:`\n",
        "* making a function: `def _name of function_(arguments):`\n",
        "* creating an array: `np.array([_values for the row_])`\n",
        "\n"
      ],
      "metadata": {
        "id": "XZ07DP49pKAt"
      }
    },
    {
      "cell_type": "markdown",
      "source": [
        "### Test of Basic Programming Skills\n",
        "During this test, you are allowed to use notebooks, materials discussed during classes, and the Python manual. The use of any kind of AI is strictly forbidden.\n",
        "\n",
        "To disable AI in Colab, go to the Tools menu in the bar above and select Settings. Then, go to the AI tab and disable it."
      ],
      "metadata": {
        "id": "xpWhgw_5meGi"
      }
    },
    {
      "cell_type": "markdown",
      "source": [
        "## **1.** Create an array with numbers from 1 to 10.\n",
        "Import necessary libraries."
      ],
      "metadata": {
        "id": "c4O-razBofno"
      }
    },
    {
      "cell_type": "code",
      "execution_count": null,
      "metadata": {
        "id": "b3iQdxzEmZNT"
      },
      "outputs": [],
      "source": []
    },
    {
      "cell_type": "markdown",
      "source": [
        "## **2.** Create an array with numbers from 1 to 10.\n",
        "Import necessary libraries.\n",
        "\n",
        "Create an array with 10 elements.\n",
        "Create an empty array and then fill it with randomly chosen numbers from the list [1, 2, 3, 4, 5].\n",
        "\n",
        "Hints:\n",
        "\n",
        "* Use a loop to fill the array.\n",
        "\n",
        "* Use `numpy.random.choice()`.\n"
      ],
      "metadata": {
        "id": "ApV9pY5ixgaP"
      }
    },
    {
      "cell_type": "code",
      "source": [],
      "metadata": {
        "id": "dQFucVukxaFY"
      },
      "execution_count": null,
      "outputs": []
    },
    {
      "cell_type": "markdown",
      "source": [
        "## **3.** Create a function called Delta.\n",
        "This function takes the coefficients of a quadratic equation and returns a string that informs the user how many roots the equation has.\n",
        "\n",
        "Check if the function works correctly for these quadratic equations:\n",
        "* $y = 2x^2+2x+2$\n",
        "* $y = -3x^2+2x+1$\n",
        "* $y = x^2+4x+1$\n",
        "\n",
        "# Mathematical hints:\n",
        "* $\\Delta = b^2 -4*a*c$\n",
        "* $\\Delta<0$, then there are no roots.\n",
        "* $\\Delta=0$, then there is one root.\n",
        "* $\\Delta>0$, then there are two roots.\n",
        "\n",
        "# Programming hints:\n",
        "\n",
        "* Use `if`, `elif`, and `else` conditions.\n",
        "\n",
        "* Note that the function doesn't need to return anything — it's enough if it just prints a string."
      ],
      "metadata": {
        "id": "k8vMTMEyzAYm"
      }
    },
    {
      "cell_type": "code",
      "source": [],
      "metadata": {
        "id": "s2_kRD-E2HT0"
      },
      "execution_count": null,
      "outputs": []
    },
    {
      "cell_type": "markdown",
      "source": [
        "## **4.** Plot function y=-2x+6 for 0<=x<=10\n",
        "The function should be plotted with red dots. Name the axes as 'X' and 'Y'. Use the function itself as the title of the plot.\n",
        "\n",
        "Hints:\n",
        "\n",
        "* Use the manual for matplotlib.pyplot.plot to check how to change markers on the plot.\n",
        "\n",
        "* Use information from this website:https://www.w3schools.com/python/matplotlib_labels.asp"
      ],
      "metadata": {
        "id": "GoGrTON32VLM"
      }
    },
    {
      "cell_type": "code",
      "source": [],
      "metadata": {
        "id": "ErZ3XGP23BsD"
      },
      "execution_count": null,
      "outputs": []
    }
  ]
}