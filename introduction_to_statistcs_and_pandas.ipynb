{
  "nbformat": 4,
  "nbformat_minor": 0,
  "metadata": {
    "colab": {
      "provenance": []
    },
    "kernelspec": {
      "name": "python3",
      "display_name": "Python 3"
    },
    "language_info": {
      "name": "python"
    }
  },
  "cells": [
    {
      "cell_type": "markdown",
      "source": [
        "### Introduction to statistics\n",
        "Statistics is the science of collecting, analyzing, interpreting, and presenting data. It helps us make informed decisions based on patterns, probabilities, and distributions.\n",
        "\n",
        "In this notebook, we will explore fundamental statistical concepts that are widely used in data analysis, quality control, and probability theory."
      ],
      "metadata": {
        "id": "VBCQS_HnQ3xd"
      }
    },
    {
      "cell_type": "code",
      "execution_count": null,
      "metadata": {
        "id": "h4-4Gz7kQmEj"
      },
      "outputs": [],
      "source": [
        "import numpy as np\n",
        "import matplotlib.pyplot as plt\n",
        "import pandas as pd"
      ]
    },
    {
      "cell_type": "markdown",
      "source": [
        "# What are histograms?\n",
        "Histograms are a type of graph. They are very useful because, in many cases, plotting every individual point in a dataset doesn't provide meaningful or useful information.\n",
        "\n",
        "To create a histogram, we use the function `plt.hist()`."
      ],
      "metadata": {
        "id": "rdHIM_0pT0YK"
      }
    },
    {
      "cell_type": "code",
      "source": [
        "#Generating data by chosing intigers from 0 to 4\n",
        "data = np.random.choice([0,1,2,3,4], size = 1000, p=[0.1,0.2,0.3,0.2,0.2])\n",
        "\n",
        "#drawing a histogram\n",
        "plt.hist(data, bins=5, rwidth=0.9)\n",
        "plt.show()"
      ],
      "metadata": {
        "colab": {
          "base_uri": "https://localhost:8080/",
          "height": 430
        },
        "id": "ze_XmByuC1rg",
        "outputId": "2e6a51a5-d3b0-48e9-ee72-3326d6733de5"
      },
      "execution_count": null,
      "outputs": [
        {
          "output_type": "display_data",
          "data": {
            "text/plain": [
              "<Figure size 640x480 with 1 Axes>"
            ],
            "image/png": "[encoded data removed]"
          },
          "metadata": {}
        }
      ]
    },
    {
      "cell_type": "markdown",
      "source": [
        "## Gauss distribution\n",
        "This distribution, also known as the normal distribution, provides information about the probability of measuring a specific value x. It has a characteristic bell-shaped curve and appears in many different fields. It is defined by the following formula:\n",
        "\n",
        "#$p(x) = \\frac{1}{\\sigma\\sqrt{2\\pi}}e^{-\\frac{1}{2}\\frac{x-\\mu}{\\sigma}^2}$\n",
        "where:\n",
        "* x is value that we measured\n",
        "* $\\sigma$ is standard deviation (see explanation below)\n",
        "* $\\mu$ is mean value"
      ],
      "metadata": {
        "id": "vk8g2YHD7puf"
      }
    },
    {
      "cell_type": "code",
      "source": [
        "#creating function that will calculate value for gauss distribution\n",
        "def Gaus(x,std, mean):\n",
        "  return 1/(std*(2*np.pi)**0.5)*np.exp(-(x-mean)**2/(2*std**2))"
      ],
      "metadata": {
        "id": "BhBC0wyvmObX"
      },
      "execution_count": null,
      "outputs": []
    },
    {
      "cell_type": "markdown",
      "source": [
        "## Standard deviation\n",
        "Standard deviation describes how the data in a distribution is spread around the mean — in other words, which values we can expect and how frequently they occur.\n",
        "#$\\sigma = \\sqrt{\\frac{\\sum(x_i-\\mu)^2}{N}}$\n",
        "where:\n",
        "* $x_i$ are the measured values\n",
        "* N is the number of measured values"
      ],
      "metadata": {
        "id": "usR0ON4R6a9Y"
      }
    },
    {
      "cell_type": "code",
      "source": [
        "#function calcualting standard deviation\n",
        "def standard_deviation(x):\n",
        "  sigma = 0\n",
        "  mean_value = np.mean(x)\n",
        "  for i in range(len(x)):\n",
        "    sigma += (x[i] - mean_value)**2\n",
        "  return (sigma/len(x))**0.5"
      ],
      "metadata": {
        "id": "4tv0ROhXjLwZ"
      },
      "execution_count": null,
      "outputs": []
    },
    {
      "cell_type": "markdown",
      "source": [
        "Let’s generate data from a normal distribution and calculate its mean value and standard deviation based on that data. Please repeat the code for sample sizes equal to 10, 100, 1000, and 1,000,000.\n",
        "\n",
        "What can you observe?"
      ],
      "metadata": {
        "id": "rMWN4j3REJUv"
      }
    },
    {
      "cell_type": "code",
      "source": [
        "#defining number of samples to generate from distribution and values\n",
        "n= 100000\n",
        "mean = 0\n",
        "stand_dev = 1\n",
        "\n",
        "\n",
        "x = np.random.normal(mean, stand_dev, n) #creating array with points from normal distribution\n",
        "df = pd.DataFrame(x, index=range(n), columns=[\"x\"]) # creating DataFrame from an array\n",
        "\n",
        "print(\"Mean value calculated from the data: \", df['x'].mean(), \". Mean value for which distribution was calculated: \", mean)\n",
        "print(\"Standard deviation calculated from the data: \", df['x'].std(), \". Standard deviation for which distribution was calculated: \", stand_dev)"
      ],
      "metadata": {
        "id": "rkr3PklARraZ",
        "colab": {
          "base_uri": "https://localhost:8080/"
        },
        "outputId": "0f66ab5b-64ea-4774-affc-dec03cbacca5"
      },
      "execution_count": null,
      "outputs": [
        {
          "output_type": "stream",
          "name": "stdout",
          "text": [
            "Mean value calculated from the data:  0.0014853571033129713 . Mean value for which distribution was calculated:  0\n",
            "Standard deviation calculated from the data:  0.99785666668796 . Standard deviation for which distribution was calculated:  1\n"
          ]
        }
      ]
    },
    {
      "cell_type": "markdown",
      "source": [
        "Now let's create histogram from data we generated and plot gauss function over it."
      ],
      "metadata": {
        "id": "rWmC09NpGbSt"
      }
    },
    {
      "cell_type": "code",
      "source": [
        "#plotting histogram from collected data. density=True recalculates values of bins by dividing\n",
        "#value of every bin by total number of measured values. In another worlds avery bins gives probability of\n",
        "#obtaining given values\n",
        "plt.hist(df[\"x\"],bins=100,density=True)\n",
        "\n",
        "#np.histogram in difference to plt.hist returns values and range of the bins of histogram\n",
        "counts, bins = np.histogram(df[\"x\"],bins=100,density=True)\n",
        "bin_centers = 0.5*(bins[1:]+bins[:-1])\n",
        "\n",
        "#calcualting probability of obtaining value x\n",
        "values = Gaus(bin_centers,standard_deviation(df[\"x\"]), np.mean(df[\"x\"]))\n",
        "#plotting a function from calculated values\n",
        "plt.plot(bin_centers, values)\n",
        "plt.show()"
      ],
      "metadata": {
        "colab": {
          "base_uri": "https://localhost:8080/",
          "height": 430
        },
        "id": "3vkJQH7hkrSV",
        "outputId": "bc5e539b-d05f-4d99-e2ff-47c741c01071"
      },
      "execution_count": null,
      "outputs": [
        {
          "output_type": "display_data",
          "data": {
            "text/plain": [
              "<Figure size 640x480 with 1 Axes>"
            ],
            "image/png": "[encoded data removed]"
          },
          "metadata": {}
        }
      ]
    },
    {
      "cell_type": "code",
      "source": [],
      "metadata": {
        "id": "ydKxn7LjLLvs"
      },
      "execution_count": null,
      "outputs": []
    }
  ]
}