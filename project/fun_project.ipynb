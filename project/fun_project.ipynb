{
  "nbformat": 4,
  "nbformat_minor": 0,
  "metadata": {
    "colab": {
      "provenance": []
    },
    "kernelspec": {
      "name": "python3",
      "display_name": "Python 3"
    },
    "language_info": {
      "name": "python"
    }
  },
  "cells": [
    {
      "cell_type": "markdown",
      "source": [
        "Import libraries"
      ],
      "metadata": {
        "id": "ypuIuNBquKDt"
      }
    },
    {
      "cell_type": "code",
      "source": [
        "import numpy as np\n",
        "import matplotlib.pyplot as plt\n",
        "import imageio"
      ],
      "metadata": {
        "id": "joMBKxmbNAGR"
      },
      "execution_count": null,
      "outputs": []
    },
    {
      "cell_type": "code",
      "execution_count": null,
      "metadata": {
        "id": "P2rT3Jc7T1um"
      },
      "outputs": [],
      "source": [
        "#this function creates gif from previously created pictures\n",
        "def make_a_gif(n,folder_with_graphics):\n",
        "  images = []\n",
        "  for i in range(n):\n",
        "      filename = f\"{folder_with_graphics}/plot_{i:05}.png\"\n",
        "      images.append(imageio.imread(filename))\n",
        "\n",
        "  imageio.mimsave(\"earth.gif\", images, duration=0.1)  # Save as a GIF\n",
        "\n",
        "\n",
        "#this functions create pictures and save them into folder with given path\n",
        "def draw_pictures(x,y, folder_path):\n",
        "  for i in range(len(y)):\n",
        "    plt.scatter(0,0, color='y', s =100)\n",
        "    plt.scatter(x[i],y[i], color='b', s =20)\n",
        "    plt.ylim(np.min(y),np.max(y))\n",
        "    plt.xlim(np.min(x),np.max(x))\n",
        "    plt.savefig(f\"{folder_path}/plot_{i:05}.png\")  # Save each plot as a PNG\n",
        "    plt.close()"
      ]
    },
    {
      "cell_type": "markdown",
      "source": [
        "### Workflow\n",
        "We need 4 arrays storing vectors - position, velcity, force and acceleration.\n",
        "\n",
        "We also need array to store history of posisitons (for every t durign simulation). We can also use list if we are not sure how many times we want to perform calculations\n",
        "Prepare functions to calculate:\n",
        "* Force working on the body,\n",
        "* Velocity of the body at hafl the time step.\n",
        "* Poisiton of earth\n",
        "Notice that this functions will cover whole leap frog algorithm and we just need to repeat them\n",
        "\n",
        "Find neccesery physical values using internet."
      ],
      "metadata": {
        "id": "b_g2hn0kss1v"
      }
    },
    {
      "cell_type": "code",
      "source": [
        "#physical values\n",
        "G = 6.67*np.pow(10.,-11)\n",
        "M = 1.98*np.pow(10.,30)\n",
        "R = 150.*np.pow(10.,9)\n",
        "#time of full reveletion around the sun\n",
        "T = 365.*24.*60.*60\n",
        "#nember of steps\n",
        "n = 1000\n",
        "#time step\n",
        "dt = T/n\n",
        "\n",
        "#define vectors\n",
        "a = np.array([0,0])\n",
        "v = np.array([0,0])\n",
        "r = np.array([R,0])\n",
        "\n",
        "#setting statring codintions for v and a\n",
        "def acceleration(r):\n",
        "  value_of_vector =  (-G*M/(r[0]**2+r[1]**2))\n",
        "  versor = r/np.sqrt(r[0]**2+r[1]**2)\n",
        "  return value_of_vector*versor\n",
        "\n",
        "a = acceleration(r)\n",
        "print(\"Initial values of acceleration: \" ,a)\n",
        "\n",
        "#calculating components of initial velocity\n",
        "def velocity_0(dt):\n",
        "  value_of_v = np.sqrt(G*M/R)\n",
        "  angle = (2. - dt/2./T)*np.pi\n",
        "  return np.array([value_of_v*np.sin(angle),value_of_v*np.cos(angle)])\n",
        "\n",
        "v = velocity_0(dt)\n",
        "print(\"Initial values of velocity: \" ,v)\n",
        "\n",
        "#creating functions for time loop\n",
        "def position(r,v,dt):\n",
        "  return r+v*dt\n",
        "\n",
        "def velocity(a, v, dt):\n",
        "  return v+a*dt\n",
        "\n",
        "\n",
        "#prepaering an arry conataining postion hsitory\n",
        "r_history = np.zeros((n+1,2))\n",
        "r_history[0] = r\n",
        "\n",
        "for i in range(n):\n",
        "  a = acceleration(r)\n",
        "  v = velocity(a,v,dt)\n",
        "  r = position(r,v,dt)\n",
        "  r_history[i+1] = r\n"
      ],
      "metadata": {
        "id": "7RWihuVZsqX2",
        "colab": {
          "base_uri": "https://localhost:8080/"
        },
        "outputId": "0070bcf4-b988-4f14-e95e-e07f4deede93"
      },
      "execution_count": null,
      "outputs": [
        {
          "output_type": "stream",
          "name": "stdout",
          "text": [
            "[-0.0058696 -0.       ]\n",
            "[  -46.60897808 29672.17261346]\n"
          ]
        }
      ]
    },
    {
      "cell_type": "markdown",
      "source": [
        "creating a gif"
      ],
      "metadata": {
        "id": "tnwFliPOU4tJ"
      }
    },
    {
      "cell_type": "code",
      "source": [
        "draw_pictures(r_history[:,0],r_history[:,1],'/content/plots')\n",
        "make_a_gif(n,'/content/plots3')"
      ],
      "metadata": {
        "colab": {
          "base_uri": "https://localhost:8080/"
        },
        "id": "yp_6tj9OTnug",
        "outputId": "77a522a9-0161-498f-e6aa-abc847604870"
      },
      "execution_count": null,
      "outputs": [
        {
          "output_type": "stream",
          "name": "stderr",
          "text": [
            "<ipython-input-2-950085a84045>:5: DeprecationWarning: Starting with ImageIO v3 the behavior of this function will switch to that of iio.v3.imread. To keep the current behavior (and make this warning disappear) use `import imageio.v2 as imageio` or call `imageio.v2.imread` directly.\n",
            "  images.append(imageio.imread(filename))\n"
          ]
        }
      ]
    },
    {
      "cell_type": "code",
      "source": [],
      "metadata": {
        "id": "UVj3ZvQCXqwN"
      },
      "execution_count": null,
      "outputs": []
    }
  ]
}
